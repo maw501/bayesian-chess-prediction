{
 "cells": [
  {
   "cell_type": "markdown",
   "metadata": {},
   "source": [
    "### Overview\n",
    "\n",
    "In this notebook we introduce the dataset briefly and the base model used.\n"
   ]
  },
  {
   "cell_type": "markdown",
   "metadata": {},
   "source": [
    "Relative player ability is modelled as:\n",
    "\n",
    "$$a_i \\sim \\mathcal{N}(b \\, * \\, \\text{prior_score}_i, \\sigma_a)$$\n",
    "\n",
    "and coded in Stan as:\n",
    "\n",
    "```\n",
    "a = b * prior_score + sigma_a * raw_a;\n",
    "``` \n",
    "\n",
    "**What is the difference between `raw_a` and `a` for a player?**\n",
    "\n",
    "\n",
    "`raw_a` is like an unpooled estimate of relative player ability based on their data alone. As part of the hierarchical model it represents the per-player adjustment (both mean and std) on top of the shared information contained in the prior and `sigma_a`.\n",
    "\n",
    "\n",
    "`a` is thus partially-pooled estimate after taking advantage of the shared information we have i.e. by learning both `sigma_a` which tells us how variable player ability is and `b` which tells us how informative the prior score is. \n",
    "\n",
    "Both `sigma_a` and `b` are learned across all players and so \"share\" information."
   ]
  }
 ],
 "metadata": {
  "kernelspec": {
   "display_name": "Python 3",
   "language": "python",
   "name": "python3"
  },
  "language_info": {
   "codemirror_mode": {
    "name": "ipython",
    "version": 3
   },
   "file_extension": ".py",
   "mimetype": "text/x-python",
   "name": "python",
   "nbconvert_exporter": "python",
   "pygments_lexer": "ipython3",
   "version": "3.8.3"
  }
 },
 "nbformat": 4,
 "nbformat_minor": 4
}

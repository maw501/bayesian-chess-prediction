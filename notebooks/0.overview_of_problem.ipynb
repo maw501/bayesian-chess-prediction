{
 "cells": [
  {
   "cell_type": "code",
   "execution_count": 1,
   "metadata": {},
   "outputs": [],
   "source": [
    "import pandas as pd\n",
    "import numpy as np\n",
    "import matplotlib.pyplot as plt\n",
    "\n",
    "from scipy.stats import logistic"
   ]
  },
  {
   "cell_type": "markdown",
   "metadata": {},
   "source": [
    "## Overview\n",
    "\n",
    "In this notebook we briefly introduce the dataset and the base model used."
   ]
  },
  {
   "cell_type": "markdown",
   "metadata": {},
   "source": [
    "## Dataset\n",
    "\n",
    "The data is FIDE chess games from around 2011 to 2019 based on tournaments occurring every 2 years. We know the identity of each player (i.e. `1503014` is [Magnus Carlsen](https://ratings.fide.com/profile/1503014)), their [Elo rating](https://en.wikipedia.org/wiki/Elo_rating_system) at the time of the game, their title and the game outcome. \n",
    "\n",
    "We ignore the title for our purposes as it's very unlikely to convey any information that isn't contained within the Elo rating."
   ]
  },
  {
   "cell_type": "code",
   "execution_count": 2,
   "metadata": {},
   "outputs": [
    {
     "data": {
      "text/html": [
       "<div>\n",
       "<style scoped>\n",
       "    .dataframe tbody tr th:only-of-type {\n",
       "        vertical-align: middle;\n",
       "    }\n",
       "\n",
       "    .dataframe tbody tr th {\n",
       "        vertical-align: top;\n",
       "    }\n",
       "\n",
       "    .dataframe thead th {\n",
       "        text-align: right;\n",
       "    }\n",
       "</style>\n",
       "<table border=\"1\" class=\"dataframe\">\n",
       "  <thead>\n",
       "    <tr style=\"text-align: right;\">\n",
       "      <th></th>\n",
       "      <th>date</th>\n",
       "      <th>round</th>\n",
       "      <th>white_id</th>\n",
       "      <th>black_id</th>\n",
       "      <th>white_elo</th>\n",
       "      <th>black_elo</th>\n",
       "      <th>white_title</th>\n",
       "      <th>black_title</th>\n",
       "      <th>result</th>\n",
       "    </tr>\n",
       "  </thead>\n",
       "  <tbody>\n",
       "    <tr>\n",
       "      <th>0</th>\n",
       "      <td>2019-09-10</td>\n",
       "      <td>1.1</td>\n",
       "      <td>9100075</td>\n",
       "      <td>8603677</td>\n",
       "      <td>1954.0</td>\n",
       "      <td>2811.0</td>\n",
       "      <td>FM</td>\n",
       "      <td>GM</td>\n",
       "      <td>0-1</td>\n",
       "    </tr>\n",
       "    <tr>\n",
       "      <th>1</th>\n",
       "      <td>2019-09-10</td>\n",
       "      <td>1.1</td>\n",
       "      <td>24116068</td>\n",
       "      <td>10207791</td>\n",
       "      <td>2780.0</td>\n",
       "      <td>2250.0</td>\n",
       "      <td>GM</td>\n",
       "      <td>FM</td>\n",
       "      <td>1-0</td>\n",
       "    </tr>\n",
       "    <tr>\n",
       "      <th>2</th>\n",
       "      <td>2019-09-10</td>\n",
       "      <td>1.1</td>\n",
       "      <td>8504580</td>\n",
       "      <td>623539</td>\n",
       "      <td>2284.0</td>\n",
       "      <td>2774.0</td>\n",
       "      <td>IM</td>\n",
       "      <td>GM</td>\n",
       "      <td>0-1</td>\n",
       "    </tr>\n",
       "    <tr>\n",
       "      <th>3</th>\n",
       "      <td>2019-09-10</td>\n",
       "      <td>1.1</td>\n",
       "      <td>5202213</td>\n",
       "      <td>6501311</td>\n",
       "      <td>2767.0</td>\n",
       "      <td>2387.0</td>\n",
       "      <td>GM</td>\n",
       "      <td>IM</td>\n",
       "      <td>1-0</td>\n",
       "    </tr>\n",
       "    <tr>\n",
       "      <th>4</th>\n",
       "      <td>2019-09-10</td>\n",
       "      <td>1.1</td>\n",
       "      <td>4902980</td>\n",
       "      <td>4168119</td>\n",
       "      <td>2407.0</td>\n",
       "      <td>2776.0</td>\n",
       "      <td>NaN</td>\n",
       "      <td>GM</td>\n",
       "      <td>0-1</td>\n",
       "    </tr>\n",
       "  </tbody>\n",
       "</table>\n",
       "</div>"
      ],
      "text/plain": [
       "        date  round  white_id  black_id  white_elo  black_elo white_title  \\\n",
       "0 2019-09-10    1.1   9100075   8603677     1954.0     2811.0          FM   \n",
       "1 2019-09-10    1.1  24116068  10207791     2780.0     2250.0          GM   \n",
       "2 2019-09-10    1.1   8504580    623539     2284.0     2774.0          IM   \n",
       "3 2019-09-10    1.1   5202213   6501311     2767.0     2387.0          GM   \n",
       "4 2019-09-10    1.1   4902980   4168119     2407.0     2776.0         NaN   \n",
       "\n",
       "  black_title result  \n",
       "0          GM    0-1  \n",
       "1          FM    1-0  \n",
       "2          GM    0-1  \n",
       "3          IM    1-0  \n",
       "4          GM    0-1  "
      ]
     },
     "execution_count": 2,
     "metadata": {},
     "output_type": "execute_result"
    }
   ],
   "source": [
    "df = pd.read_csv(\"../data/games.csv\", parse_dates=[\"date\"])\n",
    "\n",
    "df.head(5)"
   ]
  },
  {
   "cell_type": "markdown",
   "metadata": {},
   "source": [
    "## Model"
   ]
  },
  {
   "cell_type": "markdown",
   "metadata": {},
   "source": [
    "The main model we will refer to can be viewed [here](../stan_models/ordered_logistic.stan). It models the 3 (ordered) outcomes of win, draw or lose using an [ordered logistic distribution](https://mc-stan.org/docs/2_25/functions-reference/ordered-logistic-distribution.html).\n",
    "\n",
    "Despite the length of the implementation it's quite a simple (hierarchical) model, the core logic of which, is written in Stan as:\n",
    "\n",
    "```\n",
    "for (i in 1:num_games)\n",
    "  y[i] ~ ordered_logistic(a[player_1_rank[i]] - a[player_2_rank[i]] + w*player_1_white[i], c);\n",
    "```\n",
    "where `a` is a vector containing the relative ability of the players in the $i$th game. \n",
    "\n",
    "Thus the model is simply using the relative ability of the two players (P1 ability minus P2 ability) plus an adjustment for playing as the white pieces to model the mean of a [logistic distribution](https://mc-stan.org/docs/2_25/functions-reference/logistic-distribution.html). This logistic distribution is then \"cut\" at 2 points, denoted by the parameter vector `c` to determine an outcome. Depending on which region of the distribution we fall into determines the outcome.\n",
    "\n",
    "We can visualise this as follows:"
   ]
  },
  {
   "cell_type": "code",
   "execution_count": 3,
   "metadata": {},
   "outputs": [
    {
     "data": {
      "image/png": "[encoded data removed]",
      "text/plain": [
       "<Figure size 576x432 with 1 Axes>"
      ]
     },
     "metadata": {
      "needs_background": "light"
     },
     "output_type": "display_data"
    }
   ],
   "source": [
    "cutpoints = [-1.25, 1.25]\n",
    "x = np.linspace(-5, 5, 1000)\n",
    "x_lose = x[x < cutpoints[0]]\n",
    "x_draw = x[(x >= cutpoints[0]) & (x <= cutpoints[1])]\n",
    "x_win = x[x > cutpoints[1]]\n",
    "\n",
    "mu = 0.5  # this is the center of the logistic distribution\n",
    "log_dist = logistic(mu)\n",
    "\n",
    "fig, ax = plt.subplots(figsize=(8, 6))\n",
    "ax.scatter(x, log_dist.pdf(x))\n",
    "ax.vlines(cutpoints[0], 0, 0.5, color=\"black\", linestyle=\"--\")\n",
    "ax.vlines(cutpoints[1], 0, 0.5, color=\"black\", linestyle=\"--\")\n",
    "\n",
    "prob_lose = log_dist.cdf(cutpoints[0])\n",
    "prob_win = 1 - log_dist.cdf(cutpoints[1])\n",
    "prob_draw = 1 - prob_win - prob_lose\n",
    "\n",
    "ax.fill_between(\n",
    "    x_lose,\n",
    "    log_dist.pdf(x_lose),\n",
    "    color=\"lightcoral\",\n",
    "    label=f\"Prob lose: {prob_lose:.2f}\",\n",
    ")\n",
    "ax.fill_between(\n",
    "    x_draw,\n",
    "    log_dist.pdf(x_draw),\n",
    "    color=\"orange\",\n",
    "    label=f\"Prob draw: {prob_draw:.2f}\",\n",
    ")\n",
    "ax.fill_between(\n",
    "    x_win,\n",
    "    log_dist.pdf(x_win),\n",
    "    color=\"mediumseagreen\",\n",
    "    label=f\"Prob win: {prob_win:.2f}\",\n",
    ")\n",
    "plt.legend()\n",
    "plt.suptitle(f\"Logistic distribution with mean: {mu:.2f} and cutpoints at: {cutpoints}\");"
   ]
  },
  {
   "cell_type": "markdown",
   "metadata": {},
   "source": [
    "It's important to recall that the cutpoints given by `c` apply to all data-points (i.e. games), but the mean of the logistic distribution moves around depending on what the value of \n",
    "\n",
    "```\n",
    "a[player_1_rank[i]] - a[player_2_rank[i]] + w*player_1_white[i]\n",
    "``` \n",
    "\n",
    "evaluates to. "
   ]
  },
  {
   "cell_type": "markdown",
   "metadata": {},
   "source": [
    "#### Modelling (relative) ability per player\n",
    "\n",
    "This is coded in Stan as (in vector notation):\n",
    "\n",
    "```\n",
    "a = b * prior_score + sigma_a * raw_a;\n",
    "```\n",
    "\n",
    "Thus relative player ability has a prior which is a normal distribution centered at `b * prior_score` (the posterior won't be normal, of course, once we've seen data).\n",
    "\n",
    "If the prior score contains all the information we need to model relative player ability then `b` would be positive and each element of `a` would be the same. For any given player, if the data contains information over and above the prior then this will be captured by the learned `a` for a player. At the other extreme, if the prior score contains no information for predicting ability then `b` should be close to 0 and each `a` will be estimated separately (not quite, because `sigma_a` is learned across players still)."
   ]
  },
  {
   "cell_type": "markdown",
   "metadata": {},
   "source": [
    "#### The parameters\n",
    "\n",
    "* `b`: this is the weight given to the prior score in determining relative player ability, learned across all players.\n",
    "* `w`: the advantage the player playing as white has that contributes to shifting the center of the logistic distribution likelihood.\n",
    "* `c`: a vector of length 2 denoting the cutpoints for the logistic distribution.\n",
    "* `sigma_a`: the uncertainty in modelling per player ability, learned across all players.\n",
    "* `a`: a vector of length equal to the number of unique players in the training data. Each elements contains a partially-pooled relative ability estimate."
   ]
  },
  {
   "cell_type": "markdown",
   "metadata": {},
   "source": [
    "## Implementation details\n",
    "\n",
    "The main implementation detail is how to construct a prior score which represents the knowledge we have about relative player ability. We can do this as follows:\n",
    "\n",
    "* In the training data, compute the average Elo rating per player.\n",
    "* Rank players according to their average Elo rating.\n",
    "* Assign players a \"normalised\" so called `prior_score` which assigns higher values to better ranked players, is centered around 0 and lies between -1 and 1.\n",
    "\n",
    "Whilst we are using the data to construct a \"prior\" this is not problematic given we withhold a completely distinct test set.\n",
    "\n",
    "This is constructed as follows:"
   ]
  },
  {
   "cell_type": "code",
   "execution_count": 4,
   "metadata": {},
   "outputs": [],
   "source": [
    "num_players = 285\n",
    "raw_prior_score = np.arange(num_players, 0, -1)\n",
    "prior_score = (raw_prior_score - np.mean(raw_prior_score)) / (\n",
    "    1 * np.std(raw_prior_score, ddof=1)\n",
    ")"
   ]
  },
  {
   "cell_type": "markdown",
   "metadata": {},
   "source": [
    "Note that this is a linear prior score based on rank and as such all differences in the average Elo rating are treated the same i.e. the difference in the prior score for a player ranked one place above another player is the same regardless of their Elo (even if the gap in Elo is huge).\n",
    "\n",
    "The fact we chose to learn a per player ability creates complexity at test time as we will need to predict for players we've never seen before. How this is done is explained when we [fit the model](2.fit_ordered_logistic_model.ipynb)."
   ]
  },
  {
   "cell_type": "code",
   "execution_count": null,
   "metadata": {},
   "outputs": [],
   "source": []
  }
 ],
 "metadata": {
  "kernelspec": {
   "display_name": "Python 3",
   "language": "python",
   "name": "python3"
  },
  "language_info": {
   "codemirror_mode": {
    "name": "ipython",
    "version": 3
   },
   "file_extension": ".py",
   "mimetype": "text/x-python",
   "name": "python",
   "nbconvert_exporter": "python",
   "pygments_lexer": "ipython3",
   "version": "3.8.3"
  }
 },
 "nbformat": 4,
 "nbformat_minor": 4
}

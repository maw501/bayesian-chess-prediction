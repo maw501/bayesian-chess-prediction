{
 "cells": [
  {
   "cell_type": "code",
   "execution_count": 46,
   "metadata": {},
   "outputs": [],
   "source": [
    "import pandas as pd\n",
    "import numpy as np\n",
    "import matplotlib.pyplot as plt\n",
    "\n",
    "from sklearn.ensemble import RandomForestClassifier\n",
    "from sklearn.model_selection import GridSearchCV\n",
    "\n",
    "from src.preprocess_data import (\n",
    "    create_df,\n",
    "    process_train_df,\n",
    "    get_id_to_elo_rating_dict,\n",
    ")"
   ]
  },
  {
   "cell_type": "markdown",
   "metadata": {},
   "source": [
    "### Overview\n",
    "\n",
    "Fit a quick Random Forest model to work out reasonable performance. \n",
    "\n",
    "We are not going to take account of the ordered nature of the outcome here. "
   ]
  },
  {
   "cell_type": "markdown",
   "metadata": {},
   "source": [
    "### Set-up data"
   ]
  },
  {
   "cell_type": "code",
   "execution_count": 32,
   "metadata": {},
   "outputs": [],
   "source": [
    "df = create_df(\"../data/games.csv\")\n",
    "df[\"p1_outcome\"] = (1 + df[\"p1_score\"] * 2).astype(int)"
   ]
  },
  {
   "cell_type": "markdown",
   "metadata": {},
   "source": [
    "We will use the titles of the players as features also.\n",
    "\n",
    "Per Wiki: _The WGM title is ranked lower than that of International Master (IM) but higher than that of FIDE Master (FM)._"
   ]
  },
  {
   "cell_type": "code",
   "execution_count": 103,
   "metadata": {},
   "outputs": [],
   "source": [
    "title_dict = {\"GM\": 4, \"IM\": 3, \"FM\": 2, \"WGM\": 2.5}"
   ]
  },
  {
   "cell_type": "code",
   "execution_count": 104,
   "metadata": {},
   "outputs": [],
   "source": [
    "df[\"p1_title_numeric\"] = df[\"p1_title\"].apply(lambda x: title_dict[x])\n",
    "df[\"p2_title_numeric\"] = df[\"p2_title\"].apply(lambda x: title_dict[x])\n",
    "\n",
    "df[\"elo_diff\"] = df[\"p1_elo\"].values - df[\"p2_elo\"].values"
   ]
  },
  {
   "cell_type": "markdown",
   "metadata": {},
   "source": [
    "### Set-up training"
   ]
  },
  {
   "cell_type": "code",
   "execution_count": 108,
   "metadata": {},
   "outputs": [],
   "source": [
    "train = df.loc[df[\"date\"] < \"2019-01-01\"]\n",
    "test = df.loc[df[\"date\"] >= \"2019-01-01\"]"
   ]
  },
  {
   "cell_type": "code",
   "execution_count": 109,
   "metadata": {},
   "outputs": [],
   "source": [
    "cols = [\"elo_diff\", \"p1_white\", \"p1_title_numeric\", \"p2_title_numeric\"]"
   ]
  },
  {
   "cell_type": "code",
   "execution_count": 110,
   "metadata": {},
   "outputs": [],
   "source": [
    "rf_params = {\n",
    "    \"max_depth\": [2, 4, 6],\n",
    "    \"n_estimators\": [25, 50, 75, 100],\n",
    "    \"criterion\": [\"gini\", \"entropy\"],\n",
    "    \"min_samples_leaf\": [2, 6, 12],\n",
    "}"
   ]
  },
  {
   "cell_type": "code",
   "execution_count": 111,
   "metadata": {},
   "outputs": [
    {
     "data": {
      "text/plain": [
       "{'criterion': 'entropy',\n",
       " 'max_depth': 4,\n",
       " 'min_samples_leaf': 2,\n",
       " 'n_estimators': 50}"
      ]
     },
     "execution_count": 111,
     "metadata": {},
     "output_type": "execute_result"
    }
   ],
   "source": [
    "grid_search = GridSearchCV(\n",
    "    RandomForestClassifier(), param_grid=rf_params, cv=5, n_jobs=-1\n",
    ")\n",
    "grid_search.fit(train[cols].values, train[\"p1_outcome\"].values)\n",
    "\n",
    "grid_search.best_params_"
   ]
  },
  {
   "cell_type": "code",
   "execution_count": 94,
   "metadata": {},
   "outputs": [],
   "source": [
    "clf = grid_search.best_estimator_\n",
    "\n",
    "clf.feature_importances_"
   ]
  },
  {
   "cell_type": "markdown",
   "metadata": {},
   "source": [
    "### Predict"
   ]
  },
  {
   "cell_type": "code",
   "execution_count": 112,
   "metadata": {},
   "outputs": [],
   "source": [
    "ypred_test = clf.predict_proba(test[cols].values)\n",
    "ypred_test_cls = np.argmax(ypred_test, axis=1) + 1\n",
    "\n",
    "ypred_train = clf.predict_proba(train[cols].values)\n",
    "ypred_train_cls_train = np.argmax(ypred_train, axis=1) + 1"
   ]
  },
  {
   "cell_type": "markdown",
   "metadata": {},
   "source": [
    "Let's look at how often the model got the correct outcome or missed:"
   ]
  },
  {
   "cell_type": "code",
   "execution_count": 113,
   "metadata": {},
   "outputs": [],
   "source": [
    "test_diff_0_accuracy = np.mean(\n",
    "    np.abs(test[\"p1_outcome\"].values - ypred_test_cls) == 0\n",
    ")\n",
    "test_diff_1_accuracy = np.mean(\n",
    "    np.abs(test[\"p1_outcome\"].values - ypred_test_cls) == 1\n",
    ")\n",
    "test_diff_2_accuracy = np.mean(\n",
    "    np.abs(test[\"p1_outcome\"].values - ypred_test_cls) == 2\n",
    ")\n",
    "\n",
    "train_diff_0_accuracy = np.mean(\n",
    "    np.abs(train[\"p1_outcome\"].values - ypred_cls_train) == 0\n",
    ")\n",
    "train_diff_1_accuracy = np.mean(\n",
    "    np.abs(train[\"p1_outcome\"].values - ypred_cls_train) == 1\n",
    ")\n",
    "train_diff_2_accuracy = np.mean(\n",
    "    np.abs(train[\"p1_outcome\"].values - ypred_cls_train) == 2\n",
    ")"
   ]
  },
  {
   "cell_type": "code",
   "execution_count": 116,
   "metadata": {},
   "outputs": [
    {
     "name": "stdout",
     "output_type": "stream",
     "text": [
      "Train - exact class: 0.5542, miss by 1: 0.4404\n",
      "Test - exact class: 0.5497, miss by 1: 0.4411\n"
     ]
    }
   ],
   "source": [
    "print(\n",
    "    f\"Train - exact class: {train_diff_0_accuracy:.4f}, miss by 1: {train_diff_1_accuracy:.4f}\"\n",
    ")\n",
    "print(\n",
    "    f\"Test - exact class: {test_diff_0_accuracy:.4f}, miss by 1: {test_diff_1_accuracy:.4f}\"\n",
    ")"
   ]
  },
  {
   "cell_type": "markdown",
   "metadata": {},
   "source": [
    "Performance is actually similar to the Bayesian model."
   ]
  },
  {
   "cell_type": "code",
   "execution_count": null,
   "metadata": {},
   "outputs": [],
   "source": []
  }
 ],
 "metadata": {
  "kernelspec": {
   "display_name": "Python 3",
   "language": "python",
   "name": "python3"
  },
  "language_info": {
   "codemirror_mode": {
    "name": "ipython",
    "version": 3
   },
   "file_extension": ".py",
   "mimetype": "text/x-python",
   "name": "python",
   "nbconvert_exporter": "python",
   "pygments_lexer": "ipython3",
   "version": "3.8.3"
  }
 },
 "nbformat": 4,
 "nbformat_minor": 4
}

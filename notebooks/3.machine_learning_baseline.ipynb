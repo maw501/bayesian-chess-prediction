{
 "cells": [
  {
   "cell_type": "code",
   "execution_count": 1,
   "metadata": {},
   "outputs": [],
   "source": [
    "import pandas as pd\n",
    "import numpy as np\n",
    "import matplotlib.pyplot as plt\n",
    "\n",
    "from sklearn.ensemble import RandomForestClassifier\n",
    "from sklearn.model_selection import GridSearchCV\n",
    "\n",
    "from src.preprocess_data import (\n",
    "    create_df,\n",
    "    process_train_df,\n",
    ")"
   ]
  },
  {
   "cell_type": "markdown",
   "metadata": {},
   "source": [
    "### Overview\n",
    "\n",
    "Fit a quick Random Forest model to work out reasonable performance. \n",
    "\n",
    "We are not going to take account of the ordered nature of the outcome here. "
   ]
  },
  {
   "cell_type": "markdown",
   "metadata": {},
   "source": [
    "### Set-up data"
   ]
  },
  {
   "cell_type": "code",
   "execution_count": 2,
   "metadata": {},
   "outputs": [],
   "source": [
    "df = create_df(\"../data/games.csv\")\n",
    "df[\"p1_outcome\"] = (1 + df[\"p1_score\"] * 2).astype(int)"
   ]
  },
  {
   "cell_type": "markdown",
   "metadata": {},
   "source": [
    "We will use the titles of the players as features also.\n",
    "\n",
    "Per Wiki: _The WGM title is ranked lower than that of International Master (IM) but higher than that of FIDE Master (FM)._"
   ]
  },
  {
   "cell_type": "code",
   "execution_count": 3,
   "metadata": {},
   "outputs": [],
   "source": [
    "title_dict = {\"GM\": 4, \"IM\": 3, \"FM\": 2, \"WGM\": 2.5}"
   ]
  },
  {
   "cell_type": "code",
   "execution_count": 4,
   "metadata": {},
   "outputs": [],
   "source": [
    "df[\"p1_title_numeric\"] = df[\"p1_title\"].apply(lambda x: title_dict[x])\n",
    "df[\"p2_title_numeric\"] = df[\"p2_title\"].apply(lambda x: title_dict[x])\n",
    "\n",
    "df[\"elo_diff\"] = df[\"p1_elo\"].values - df[\"p2_elo\"].values"
   ]
  },
  {
   "cell_type": "markdown",
   "metadata": {},
   "source": [
    "### Set-up training"
   ]
  },
  {
   "cell_type": "code",
   "execution_count": 5,
   "metadata": {},
   "outputs": [],
   "source": [
    "train = df.loc[df[\"date\"] < \"2019-01-01\"]\n",
    "test = df.loc[df[\"date\"] >= \"2019-01-01\"]"
   ]
  },
  {
   "cell_type": "code",
   "execution_count": 6,
   "metadata": {},
   "outputs": [],
   "source": [
    "cols = [\"elo_diff\", \"p1_white\", \"p1_title_numeric\", \"p2_title_numeric\"]"
   ]
  },
  {
   "cell_type": "code",
   "execution_count": 7,
   "metadata": {},
   "outputs": [
    {
     "data": {
      "text/html": [
       "<div>\n",
       "<style scoped>\n",
       "    .dataframe tbody tr th:only-of-type {\n",
       "        vertical-align: middle;\n",
       "    }\n",
       "\n",
       "    .dataframe tbody tr th {\n",
       "        vertical-align: top;\n",
       "    }\n",
       "\n",
       "    .dataframe thead th {\n",
       "        text-align: right;\n",
       "    }\n",
       "</style>\n",
       "<table border=\"1\" class=\"dataframe\">\n",
       "  <thead>\n",
       "    <tr style=\"text-align: right;\">\n",
       "      <th></th>\n",
       "      <th>elo_diff</th>\n",
       "      <th>p1_white</th>\n",
       "      <th>p1_title_numeric</th>\n",
       "      <th>p2_title_numeric</th>\n",
       "    </tr>\n",
       "  </thead>\n",
       "  <tbody>\n",
       "    <tr>\n",
       "      <th>435</th>\n",
       "      <td>-572.0</td>\n",
       "      <td>False</td>\n",
       "      <td>2.0</td>\n",
       "      <td>4.0</td>\n",
       "    </tr>\n",
       "    <tr>\n",
       "      <th>436</th>\n",
       "      <td>415.0</td>\n",
       "      <td>False</td>\n",
       "      <td>4.0</td>\n",
       "      <td>3.0</td>\n",
       "    </tr>\n",
       "    <tr>\n",
       "      <th>437</th>\n",
       "      <td>401.0</td>\n",
       "      <td>True</td>\n",
       "      <td>4.0</td>\n",
       "      <td>4.0</td>\n",
       "    </tr>\n",
       "    <tr>\n",
       "      <th>439</th>\n",
       "      <td>-353.0</td>\n",
       "      <td>False</td>\n",
       "      <td>3.0</td>\n",
       "      <td>4.0</td>\n",
       "    </tr>\n",
       "    <tr>\n",
       "      <th>440</th>\n",
       "      <td>-342.0</td>\n",
       "      <td>True</td>\n",
       "      <td>3.0</td>\n",
       "      <td>4.0</td>\n",
       "    </tr>\n",
       "  </tbody>\n",
       "</table>\n",
       "</div>"
      ],
      "text/plain": [
       "     elo_diff  p1_white  p1_title_numeric  p2_title_numeric\n",
       "435    -572.0     False               2.0               4.0\n",
       "436     415.0     False               4.0               3.0\n",
       "437     401.0      True               4.0               4.0\n",
       "439    -353.0     False               3.0               4.0\n",
       "440    -342.0      True               3.0               4.0"
      ]
     },
     "execution_count": 7,
     "metadata": {},
     "output_type": "execute_result"
    }
   ],
   "source": [
    "train[cols].head()"
   ]
  },
  {
   "cell_type": "code",
   "execution_count": 8,
   "metadata": {},
   "outputs": [],
   "source": [
    "rf_params = {\n",
    "    \"max_depth\": [2, 4, 6],\n",
    "    \"n_estimators\": [25, 50, 75, 100],\n",
    "    \"criterion\": [\"gini\", \"entropy\"],\n",
    "    \"min_samples_leaf\": [2, 6, 12],\n",
    "}"
   ]
  },
  {
   "cell_type": "code",
   "execution_count": 9,
   "metadata": {},
   "outputs": [
    {
     "data": {
      "text/plain": [
       "{'criterion': 'entropy',\n",
       " 'max_depth': 4,\n",
       " 'min_samples_leaf': 6,\n",
       " 'n_estimators': 100}"
      ]
     },
     "execution_count": 9,
     "metadata": {},
     "output_type": "execute_result"
    }
   ],
   "source": [
    "grid_search = GridSearchCV(\n",
    "    RandomForestClassifier(), param_grid=rf_params, cv=10, n_jobs=-1\n",
    ")\n",
    "grid_search.fit(train[cols].values, train[\"p1_outcome\"].values)\n",
    "\n",
    "grid_search.best_params_"
   ]
  },
  {
   "cell_type": "code",
   "execution_count": 10,
   "metadata": {},
   "outputs": [
    {
     "data": {
      "text/plain": [
       "array([0.75272061, 0.14967283, 0.06006922, 0.03753733])"
      ]
     },
     "execution_count": 10,
     "metadata": {},
     "output_type": "execute_result"
    }
   ],
   "source": [
    "clf = grid_search.best_estimator_\n",
    "\n",
    "clf.feature_importances_"
   ]
  },
  {
   "cell_type": "markdown",
   "metadata": {},
   "source": [
    "### Predict"
   ]
  },
  {
   "cell_type": "code",
   "execution_count": 11,
   "metadata": {},
   "outputs": [],
   "source": [
    "ypred_test = clf.predict_proba(test[cols].values)\n",
    "ypred_test_cls = np.argmax(ypred_test, axis=1) + 1\n",
    "\n",
    "ypred_train = clf.predict_proba(train[cols].values)\n",
    "ypred_train_cls = np.argmax(ypred_train, axis=1) + 1"
   ]
  },
  {
   "cell_type": "markdown",
   "metadata": {},
   "source": [
    "Let's look at how often the model got the correct outcome or missed:"
   ]
  },
  {
   "cell_type": "code",
   "execution_count": 12,
   "metadata": {},
   "outputs": [],
   "source": [
    "test_diff_0_accuracy = np.mean(np.abs(test[\"p1_outcome\"].values - ypred_test_cls) == 0)\n",
    "test_diff_1_accuracy = np.mean(np.abs(test[\"p1_outcome\"].values - ypred_test_cls) == 1)\n",
    "test_diff_2_accuracy = np.mean(np.abs(test[\"p1_outcome\"].values - ypred_test_cls) == 2)\n",
    "\n",
    "train_diff_0_accuracy = np.mean(\n",
    "    np.abs(train[\"p1_outcome\"].values - ypred_train_cls) == 0\n",
    ")\n",
    "train_diff_1_accuracy = np.mean(\n",
    "    np.abs(train[\"p1_outcome\"].values - ypred_train_cls) == 1\n",
    ")\n",
    "train_diff_2_accuracy = np.mean(\n",
    "    np.abs(train[\"p1_outcome\"].values - ypred_train_cls) == 2\n",
    ")"
   ]
  },
  {
   "cell_type": "code",
   "execution_count": 13,
   "metadata": {},
   "outputs": [
    {
     "name": "stdout",
     "output_type": "stream",
     "text": [
      "Train - exact class: 0.5578, miss by 1: 0.4363\n",
      "Test - exact class: 0.5497, miss by 1: 0.4411\n"
     ]
    }
   ],
   "source": [
    "print(\n",
    "    f\"Train - exact class: {train_diff_0_accuracy:.4f}, miss by 1: {train_diff_1_accuracy:.4f}\"\n",
    ")\n",
    "print(\n",
    "    f\"Test - exact class: {test_diff_0_accuracy:.4f}, miss by 1: {test_diff_1_accuracy:.4f}\"\n",
    ")"
   ]
  },
  {
   "cell_type": "markdown",
   "metadata": {},
   "source": [
    "Performance is actually similar to the Bayesian model (and with none of the fun)."
   ]
  },
  {
   "cell_type": "code",
   "execution_count": null,
   "metadata": {},
   "outputs": [],
   "source": []
  }
 ],
 "metadata": {
  "kernelspec": {
   "display_name": "Python [conda env:chess]",
   "language": "python",
   "name": "conda-env-chess-py"
  },
  "language_info": {
   "codemirror_mode": {
    "name": "ipython",
    "version": 3
   },
   "file_extension": ".py",
   "mimetype": "text/x-python",
   "name": "python",
   "nbconvert_exporter": "python",
   "pygments_lexer": "ipython3",
   "version": "3.8.5"
  }
 },
 "nbformat": 4,
 "nbformat_minor": 4
}
